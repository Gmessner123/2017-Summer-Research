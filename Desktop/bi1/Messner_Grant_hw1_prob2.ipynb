{
 "cells": [
  {
   "cell_type": "code",
   "execution_count": 1,
   "metadata": {
    "collapsed": false
   },
   "outputs": [
    {
     "name": "stdout",
     "output_type": "stream",
     "text": [
      "head: data/mabuya_atlantica/noronha_mabuya.txt: No such file or directory\r\n"
     ]
    }
   ],
   "source": [
    "! head data/mabuya_atlantica/noronha_mabuya.txt"
   ]
  },
  {
   "cell_type": "code",
   "execution_count": 2,
   "metadata": {
    "collapsed": false
   },
   "outputs": [
    {
     "name": "stdout",
     "output_type": "stream",
     "text": [
      "head: data/mabuya_atlantica/noronha_mabuya.txt: No such file or directory\r\n"
     ]
    }
   ],
   "source": [
    "! head data/mabuya_atlantica/noronha_mabuya.txt"
   ]
  },
  {
   "cell_type": "code",
   "execution_count": 3,
   "metadata": {
    "collapsed": false
   },
   "outputs": [
    {
     "name": "stdout",
     "output_type": "stream",
     "text": [
      "head: desktop/mabuya_atlantica/noronha_mabuya.txt: No such file or directory\r\n"
     ]
    }
   ],
   "source": [
    "! head desktop/mabuya_atlantica/noronha_mabuya.txt"
   ]
  },
  {
   "cell_type": "code",
   "execution_count": 4,
   "metadata": {
    "collapsed": false
   },
   "outputs": [
    {
     "name": "stdout",
     "output_type": "stream",
     "text": [
      ">Mabuya atlantica isolate 1, Fernando de Noronha\r",
      "\r\n",
      "ttgtcttctaaataaagaccagtatgaacggctaaatgaggacaaacctgtctcttttaa\r",
      "\r\n",
      "ctaatcagtgaaactgatctcccagtacaaaagctgggatacaaacataagacgagaaga\r",
      "\r\n",
      "ccccgtggagcttaaaacaaaaccaccaatcca--c------gccctgg-accctggtgg\r",
      "\r\n",
      "actgttttgagttggggcgacttcggaataaaaagaaacttccgagcacagaaccac-aa\r",
      "\r\n",
      "attctaaccaaggccaacaagcctaagcata---taa-ctgacccggccc--acgccgat\r",
      "\r\n",
      "caacgaaccaagttaccccggggataacagcgctatcttcttcaagagtccctatcaaca\r",
      "\r\n",
      "agaaggtttacgacctcgatgttggatcaggacacccaaatggtgcagccgctattaaag\r",
      "\r\n",
      "gttcgtttgttcaacgatt\r",
      "\r\n"
     ]
    }
   ],
   "source": [
    "! head downloads/mabuya_atlantica/noronha_mabuya.txt"
   ]
  },
  {
   "cell_type": "code",
   "execution_count": 5,
   "metadata": {
    "collapsed": false
   },
   "outputs": [
    {
     "name": "stdout",
     "output_type": "stream",
     "text": [
      "Fetching package metadata ...........\n",
      "Solving package specifications: .\n",
      "\n",
      "Package plan for installation in environment /Users/Grant/anaconda:\n",
      "\n",
      "The following NEW packages will be INSTALLED:\n",
      "\n",
      "    biopython: 1.68-np111py36_0\n",
      "\n",
      "biopython-1.68 100% |################################| Time: 0:00:06 363.16 kB/s\n"
     ]
    }
   ],
   "source": [
    "! conda install biopython --yes"
   ]
  },
  {
   "cell_type": "code",
   "execution_count": 6,
   "metadata": {
    "collapsed": false
   },
   "outputs": [
    {
     "name": "stdout",
     "output_type": "stream",
     "text": [
      ">Ptychadena newtoni, Sao Tome\r",
      "\r\n",
      "--------gcctgcccggtgac-acagtttaacggccgcggtatcctgaccgtgcaaagg\r",
      "\r\n",
      "tagcataatcacttgttctttaaatgaggactagaatcaacggcatcacgagggtcttac\r",
      "\r\n",
      "tgtctcccccctctaatcagtgaaactgatctccccgtgaagaagcggggataaaaatat\r",
      "\r\n",
      "aagacgagaagaccccatggagctttaagctcaacaaatactctttttcaccaacctcac\r",
      "\r\n",
      "atatct-gagaatctacttgttagctttaggttggggtgaccacggagtaaaactcaacc\r",
      "\r\n",
      "tccataatgaaaagaataaaatcctaatctatgagct-acgcctctaagaatcaataaat\r",
      "\r\n",
      "tgacataaaatgacccgaca--------cttcgatcaatgaaccaagttaccctggggat\r",
      "\r\n",
      "aacagcgccatccacttcgagagcccctatcgacaagtgggtttacgacctcgatgttgg\r",
      "\r\n",
      "atcagggtgtcccagtggtgcagccgctactaaaggttcgtttgttcaacgattaaaacc\r",
      "\r\n"
     ]
    }
   ],
   "source": [
    "! head downloads/hw1_dataset/frogs_st.txt"
   ]
  },
  {
   "cell_type": "code",
   "execution_count": 7,
   "metadata": {
    "collapsed": false
   },
   "outputs": [
    {
     "name": "stdout",
     "output_type": "stream",
     "text": [
      ">Ptychadena oxyrhynchus, South Africa, Kwambonambi\r",
      "\r\n",
      "------ccgcctgcccagtgacagg-attcaacggccgcggtactctaaccgtgcgaagg\r",
      "\r\n",
      "tagcacaatagcttgttctttaaataaggactagaatcaatggcttcacgagggttgtac\r",
      "\r\n",
      "tgtctcctttttctaatcagtgaaactgatctccccgtgaagaagcggggatatacatat\r",
      "\r\n",
      "aagacgagaagaccccatggagctttaaactcaatagatacccctctgctctaacatgat\r",
      "\r\n",
      "aa-ctt-aggcacctatctattagttttgggttggggtgaccacggagtacaatctagcc\r",
      "\r\n",
      "tccgcaatgaaaagaataatatcctaatccatgaggg-acacctctaagaattaatatat\r",
      "\r\n",
      "tagcatacactgatccaataacc-t---atttgatcaatgaaccaagttaccctggggat\r",
      "\r\n",
      "aacagcgcgatccacttcaagagttcctatcgacgagtgggtttacgacctcgatgttgg\r",
      "\r\n",
      "atcanggtatcccggtggtgcagccgctactaaaggttcgtttgktcaacgattaaaacc\r",
      "\r\n"
     ]
    }
   ],
   "source": [
    "! head downloads/hw1_dataset/frogs_africa.txt"
   ]
  },
  {
   "cell_type": "code",
   "execution_count": 10,
   "metadata": {
    "collapsed": true
   },
   "outputs": [],
   "source": [
    "import Bio.SeqIO"
   ]
  },
  {
   "cell_type": "code",
   "execution_count": 12,
   "metadata": {
    "collapsed": true
   },
   "outputs": [],
   "source": [
    "with open('downloads/hw1_dataset/frogs_st.txt', 'r') as seq:\n",
    "    st_file = Bio.SeqIO.parse(seq,'fasta')\n",
    "    st_sequences = [record for record in st_file]"
   ]
  },
  {
   "cell_type": "code",
   "execution_count": 13,
   "metadata": {
    "collapsed": true
   },
   "outputs": [],
   "source": [
    "st_seq = st_sequences[0].seq"
   ]
  },
  {
   "cell_type": "code",
   "execution_count": 15,
   "metadata": {
    "collapsed": false
   },
   "outputs": [],
   "source": [
    "st_desc = st_sequences[0].description"
   ]
  },
  {
   "cell_type": "code",
   "execution_count": 16,
   "metadata": {
    "collapsed": false
   },
   "outputs": [
    {
     "name": "stdout",
     "output_type": "stream",
     "text": [
      "--------gcctgcccggtgac-acagtttaacggccgcggtatcctgaccgtgcaaaggtagcataatcacttgttctttaaatgaggactagaatcaacggcatcacgagggtcttactgtctcccccctctaatcagtgaaactgatctccccgtgaagaagcggggataaaaatataagacgagaagaccccatggagctttaagctcaacaaatactctttttcaccaacctcacatatct-gagaatctacttgttagctttaggttggggtgaccacggagtaaaactcaacctccataatgaaaagaataaaatcctaatctatgagct-acgcctctaagaatcaataaattgacataaaatgacccgaca--------cttcgatcaatgaaccaagttaccctggggataacagcgccatccacttcgagagcccctatcgacaagtgggtttacgacctcgatgttggatcagggtgtcccagtggtgcagccgctactaaaggttcgtttgttcaacgattaaaaccct-------------\n"
     ]
    }
   ],
   "source": [
    "print(st_seq)"
   ]
  },
  {
   "cell_type": "code",
   "execution_count": 17,
   "metadata": {
    "collapsed": false
   },
   "outputs": [
    {
     "name": "stdout",
     "output_type": "stream",
     "text": [
      "Ptychadena newtoni, Sao Tome\n"
     ]
    }
   ],
   "source": [
    "print(st_desc)"
   ]
  },
  {
   "cell_type": "code",
   "execution_count": 20,
   "metadata": {
    "collapsed": true
   },
   "outputs": [],
   "source": [
    "with open('downloads/hw1_dataset/frogs_africa.txt', 'r') as seq:\n",
    "    africa_file = Bio.SeqIO.parse(seq,'fasta')\n",
    "    africa_sequences = [record for record in africa_file]"
   ]
  },
  {
   "cell_type": "code",
   "execution_count": 21,
   "metadata": {
    "collapsed": false
   },
   "outputs": [],
   "source": [
    "africa_seq = africa_sequences[0].seq"
   ]
  },
  {
   "cell_type": "code",
   "execution_count": 22,
   "metadata": {
    "collapsed": true
   },
   "outputs": [],
   "source": [
    "africa_desc = africa_sequences[0].description"
   ]
  },
  {
   "cell_type": "code",
   "execution_count": 23,
   "metadata": {
    "collapsed": false
   },
   "outputs": [
    {
     "name": "stdout",
     "output_type": "stream",
     "text": [
      "------ccgcctgcccagtgacagg-attcaacggccgcggtactctaaccgtgcgaaggtagcacaatagcttgttctttaaataaggactagaatcaatggcttcacgagggttgtactgtctcctttttctaatcagtgaaactgatctccccgtgaagaagcggggatatacatataagacgagaagaccccatggagctttaaactcaatagatacccctctgctctaacatgataa-ctt-aggcacctatctattagttttgggttggggtgaccacggagtacaatctagcctccgcaatgaaaagaataatatcctaatccatgaggg-acacctctaagaattaatatattagcatacactgatccaataacc-t---atttgatcaatgaaccaagttaccctggggataacagcgcgatccacttcaagagttcctatcgacgagtgggtttacgacctcgatgttggatcanggtatcccggtggtgcagccgctactaaaggttcgtttgktcaacgattaaaaccctacgtgatctgagt\n"
     ]
    }
   ],
   "source": [
    "print(africa_seq)"
   ]
  },
  {
   "cell_type": "code",
   "execution_count": 24,
   "metadata": {
    "collapsed": false
   },
   "outputs": [
    {
     "name": "stdout",
     "output_type": "stream",
     "text": [
      "Ptychadena oxyrhynchus, South Africa, Kwambonambi\n"
     ]
    }
   ],
   "source": [
    "print(africa_desc)"
   ]
  },
  {
   "cell_type": "code",
   "execution_count": 25,
   "metadata": {
    "collapsed": true
   },
   "outputs": [],
   "source": [
    "st_len = len(st_seq)\n",
    "africa_len=len(africa_seq)"
   ]
  },
  {
   "cell_type": "code",
   "execution_count": 26,
   "metadata": {
    "collapsed": false
   },
   "outputs": [
    {
     "name": "stdout",
     "output_type": "stream",
     "text": [
      "True\n"
     ]
    }
   ],
   "source": [
    "print(st_len==africa_len)"
   ]
  },
  {
   "cell_type": "code",
   "execution_count": 27,
   "metadata": {
    "collapsed": true
   },
   "outputs": [],
   "source": [
    "def similarityScore(seq1, seq2):\n",
    "    '''Computes the similarity score of the two sequences (seq1 and seq2), and returns the score as a ratio of the\n",
    "    number of matching bases to the total number of bases in each sequence (should be the same).'''\n",
    "    if(len(seq1) != len(seq2)):\n",
    "        raise ValueError('Sequences must be the same length')\n",
    "    seq1 = seq1.lower()\n",
    "    seq2 = seq2.lower()\n",
    "    \n",
    "    matches = 0\n",
    "    bases = 0\n",
    "    for i in range(len(seq1)):\n",
    "        if seq1[i] != '-' and seq2[i] != '-':\n",
    "            bases += 1\n",
    "            \n",
    "            if(seq1[i] == seq2[i]):\n",
    "                matches += 1\n",
    "                \n",
    "    return matches / bases"
   ]
  },
  {
   "cell_type": "code",
   "execution_count": 28,
   "metadata": {
    "collapsed": false
   },
   "outputs": [
    {
     "data": {
      "text/plain": [
       "0.8483685220729367"
      ]
     },
     "execution_count": 28,
     "metadata": {},
     "output_type": "execute_result"
    }
   ],
   "source": [
    "similarityScore(africa_seq, st_seq)"
   ]
  },
  {
   "cell_type": "code",
   "execution_count": 29,
   "metadata": {
    "collapsed": true
   },
   "outputs": [],
   "source": [
    "seqA = 'abcd'\n",
    "seqB = 'abce'"
   ]
  },
  {
   "cell_type": "code",
   "execution_count": 30,
   "metadata": {
    "collapsed": false
   },
   "outputs": [
    {
     "data": {
      "text/plain": [
       "0.75"
      ]
     },
     "execution_count": 30,
     "metadata": {},
     "output_type": "execute_result"
    }
   ],
   "source": [
    "similarityScore(seqA, seqB)"
   ]
  },
  {
   "cell_type": "code",
   "execution_count": 39,
   "metadata": {
    "collapsed": true
   },
   "outputs": [],
   "source": [
    "def computeScores():\n",
    "    for i in range(len(st_sequences)):\n",
    "        for j in range(len(africa_sequences)):\n",
    "            score = similarityScore(st_sequences[i].seq, africa_sequences[j].seq)\n",
    "            print('Sao Tome frog: ' + st_sequences[i].description + \" sample \" + str(i + 1), 'African frog: ' + africa_sequences[j].description)\n",
    "            print(\"Similarity score: \" + str(score))\n",
    "            print('')"
   ]
  },
  {
   "cell_type": "code",
   "execution_count": 40,
   "metadata": {
    "collapsed": false
   },
   "outputs": [
    {
     "name": "stdout",
     "output_type": "stream",
     "text": [
      "Sao Tome frog: Ptychadena newtoni, Sao Tome sample 1 African frog: Ptychadena oxyrhynchus, South Africa, Kwambonambi\n",
      "Similarity score: 0.8483685220729367\n",
      "\n",
      "Sao Tome frog: Ptychadena newtoni, Sao Tome sample 1 African frog: Ptychadena anchietae, South Africa, Mtunzini\n",
      "Similarity score: 0.8455598455598455\n",
      "\n",
      "Sao Tome frog: Ptychadena newtoni, Sao Tome sample 1 African frog: Ptychadena mascareniensis, Madagascar, Nahampoana\n",
      "Similarity score: 0.9176245210727969\n",
      "\n",
      "Sao Tome frog: Ptychadena newtoni, Sao Tome sample 1 African frog: Ptychadena mahnerti, Kenya, Mt Kenya\n",
      "Similarity score: 0.8480769230769231\n",
      "\n",
      "Sao Tome frog: Ptychadena newtoni, Sao Tome sample 1 African frog: Ptychadena aff. aequiplicata, Cameroon, Dja Reserve\n",
      "Similarity score: 0.8478260869565217\n",
      "\n",
      "Sao Tome frog: Ptychadena newtoni, Sao Tome sample 1 African frog: Ptychadena anchietae, Kenya, Kararacha Pond\n",
      "Similarity score: 0.8436781609195402\n",
      "\n",
      "Sao Tome frog: Ptychadena newtoni, Sao Tome sample 1 African frog: Ptychadena anchietae, Somalia, Karin, Bari Region\n",
      "Similarity score: 0.8415841584158416\n",
      "\n",
      "Sao Tome frog: Ptychadena newtoni, Sao Tome sample 1 African frog: Ptychadena anchietae, Somalia, Karin, Bari Region\n",
      "Similarity score: 0.8461538461538461\n",
      "\n",
      "Sao Tome frog: Ptychadena newtoni, Sao Tome sample 1 African frog: Ptychadena nilotica, Uganda, Lake Victoria\n",
      "Similarity score: 0.9483747609942639\n",
      "\n",
      "Sao Tome frog: Ptychadena newtoni, Sao Tome sample 1 African frog: Ptychadena nilotica, Kenya, Makuru\n",
      "Similarity score: 0.9445506692160612\n",
      "\n",
      "Sao Tome frog: Ptychadena newtoni, Sao Tome sample 1 African frog: Ptychadena nilotica, Kenya, Mt Kenya\n",
      "Similarity score: 0.9464627151051626\n",
      "\n",
      "Sao Tome frog: Ptychadena newtoni, Sao Tome sample 1 African frog: Ptychadena nilotica, Kenya, Mt Kenya\n",
      "Similarity score: 0.9464627151051626\n",
      "\n",
      "Sao Tome frog: Ptychadena newtoni, Sao Tome sample 1 African frog: Ptychadena nilotica, Kenya, Taita Hills\n",
      "Similarity score: 0.945010183299389\n",
      "\n",
      "Sao Tome frog: Ptychadena newtoni, Sao Tome sample 1 African frog: Ptychadena nilotica, Kenya, Taita Hills\n",
      "Similarity score: 0.9429175475687104\n",
      "\n",
      "Sao Tome frog: Ptychadena newtoni, Sao Tome sample 1 African frog: Ptychadena nilotica, Tanzania, Kibebe farm\n",
      "Similarity score: 0.950592885375494\n",
      "\n",
      "Sao Tome frog: Ptychadena newtoni, Sao Tome sample 1 African frog: Ptychadena aff. mascareniensis, Guinea\n",
      "Similarity score: 0.921455938697318\n",
      "\n",
      "Sao Tome frog: Ptychadena newtoni, Sao Tome sample 1 African frog: Ptychadena aff. mascareniensis, Uganda, Kampala\n",
      "Similarity score: 0.9329501915708812\n",
      "\n",
      "Sao Tome frog: Ptychadena newtoni, Sao Tome sample 1 African frog: Ptychadena aff. mascareniensis, Central African Republic, Dzanga-Sangha Reserve\n",
      "Similarity score: 0.9184652278177458\n",
      "\n",
      "Sao Tome frog: Ptychadena newtoni, Sao Tome sample 1 African frog: Ptychadena oxyrhynchus, Malawi\n",
      "Similarity score: 0.8541266794625719\n",
      "\n",
      "Sao Tome frog: Ptychadena newtoni, Sao Tome sample 1 African frog: Ptychadena aff. porosissima, Tanzania, Tatanda\n",
      "Similarity score: 0.8313725490196079\n",
      "\n",
      "Sao Tome frog: Ptychadena newtoni, Sao Tome sample 1 African frog: Ptychadena porosissima, Tanzania, Mumba\n",
      "Similarity score: 0.8568627450980392\n",
      "\n",
      "Sao Tome frog: Ptychadena newtoni, Sao Tome sample 1 African frog: Ptychadena pumilio, Guinea, Mont Bero\n",
      "Similarity score: 0.869757174392936\n",
      "\n",
      "Sao Tome frog: Ptychadena newtoni, Sao Tome sample 1 African frog: Ptychadena taenioscelis, Kenya, Kakamega\n",
      "Similarity score: 0.9022988505747126\n",
      "\n",
      "Sao Tome frog: Ptychadena newtoni, Sao Tome sample 1 African frog: Ptychadena sp., Tanzania, Mikumi\n",
      "Similarity score: 0.875\n",
      "\n",
      "Sao Tome frog: Ptychadena newtoni, Sao Tome sample 1 African frog: Ptychadena aff. uzungwensis, Tanzania, Njombe\n",
      "Similarity score: 0.862\n",
      "\n",
      "Sao Tome frog: Ptychadena newtoni, Sao Tome sample 2 African frog: Ptychadena oxyrhynchus, South Africa, Kwambonambi\n",
      "Similarity score: 0.8495049504950495\n",
      "\n",
      "Sao Tome frog: Ptychadena newtoni, Sao Tome sample 2 African frog: Ptychadena anchietae, South Africa, Mtunzini\n",
      "Similarity score: 0.8472222222222222\n",
      "\n",
      "Sao Tome frog: Ptychadena newtoni, Sao Tome sample 2 African frog: Ptychadena mascareniensis, Madagascar, Nahampoana\n",
      "Similarity score: 0.9189723320158103\n",
      "\n",
      "Sao Tome frog: Ptychadena newtoni, Sao Tome sample 2 African frog: Ptychadena mahnerti, Kenya, Mt Kenya\n",
      "Similarity score: 0.8511904761904762\n",
      "\n",
      "Sao Tome frog: Ptychadena newtoni, Sao Tome sample 2 African frog: Ptychadena aff. aequiplicata, Cameroon, Dja Reserve\n",
      "Similarity score: 0.8478260869565217\n",
      "\n",
      "Sao Tome frog: Ptychadena newtoni, Sao Tome sample 2 African frog: Ptychadena anchietae, Kenya, Kararacha Pond\n",
      "Similarity score: 0.8436781609195402\n",
      "\n",
      "Sao Tome frog: Ptychadena newtoni, Sao Tome sample 2 African frog: Ptychadena anchietae, Somalia, Karin, Bari Region\n",
      "Similarity score: 0.8415841584158416\n",
      "\n",
      "Sao Tome frog: Ptychadena newtoni, Sao Tome sample 2 African frog: Ptychadena anchietae, Somalia, Karin, Bari Region\n",
      "Similarity score: 0.8461538461538461\n",
      "\n",
      "Sao Tome frog: Ptychadena newtoni, Sao Tome sample 2 African frog: Ptychadena nilotica, Uganda, Lake Victoria\n",
      "Similarity score: 0.9486166007905138\n",
      "\n",
      "Sao Tome frog: Ptychadena newtoni, Sao Tome sample 2 African frog: Ptychadena nilotica, Kenya, Makuru\n",
      "Similarity score: 0.9446640316205533\n",
      "\n",
      "Sao Tome frog: Ptychadena newtoni, Sao Tome sample 2 African frog: Ptychadena nilotica, Kenya, Mt Kenya\n",
      "Similarity score: 0.9466403162055336\n",
      "\n",
      "Sao Tome frog: Ptychadena newtoni, Sao Tome sample 2 African frog: Ptychadena nilotica, Kenya, Mt Kenya\n",
      "Similarity score: 0.9466403162055336\n",
      "\n",
      "Sao Tome frog: Ptychadena newtoni, Sao Tome sample 2 African frog: Ptychadena nilotica, Kenya, Taita Hills\n",
      "Similarity score: 0.945010183299389\n",
      "\n",
      "Sao Tome frog: Ptychadena newtoni, Sao Tome sample 2 African frog: Ptychadena nilotica, Kenya, Taita Hills\n",
      "Similarity score: 0.9429175475687104\n",
      "\n",
      "Sao Tome frog: Ptychadena newtoni, Sao Tome sample 2 African frog: Ptychadena nilotica, Tanzania, Kibebe farm\n",
      "Similarity score: 0.950592885375494\n",
      "\n",
      "Sao Tome frog: Ptychadena newtoni, Sao Tome sample 2 African frog: Ptychadena aff. mascareniensis, Guinea\n",
      "Similarity score: 0.924901185770751\n",
      "\n",
      "Sao Tome frog: Ptychadena newtoni, Sao Tome sample 2 African frog: Ptychadena aff. mascareniensis, Uganda, Kampala\n",
      "Similarity score: 0.9367588932806324\n",
      "\n",
      "Sao Tome frog: Ptychadena newtoni, Sao Tome sample 2 African frog: Ptychadena aff. mascareniensis, Central African Republic, Dzanga-Sangha Reserve\n",
      "Similarity score: 0.9226932668329177\n",
      "\n",
      "Sao Tome frog: Ptychadena newtoni, Sao Tome sample 2 African frog: Ptychadena oxyrhynchus, Malawi\n",
      "Similarity score: 0.8554455445544554\n",
      "\n",
      "Sao Tome frog: Ptychadena newtoni, Sao Tome sample 2 African frog: Ptychadena aff. porosissima, Tanzania, Tatanda\n",
      "Similarity score: 0.8333333333333334\n",
      "\n",
      "Sao Tome frog: Ptychadena newtoni, Sao Tome sample 2 African frog: Ptychadena porosissima, Tanzania, Mumba\n",
      "Similarity score: 0.8571428571428571\n",
      "\n",
      "Sao Tome frog: Ptychadena newtoni, Sao Tome sample 2 African frog: Ptychadena pumilio, Guinea, Mont Bero\n",
      "Similarity score: 0.8672768878718535\n",
      "\n",
      "Sao Tome frog: Ptychadena newtoni, Sao Tome sample 2 African frog: Ptychadena taenioscelis, Kenya, Kakamega\n",
      "Similarity score: 0.9031620553359684\n",
      "\n",
      "Sao Tome frog: Ptychadena newtoni, Sao Tome sample 2 African frog: Ptychadena sp., Tanzania, Mikumi\n",
      "Similarity score: 0.8774703557312253\n",
      "\n",
      "Sao Tome frog: Ptychadena newtoni, Sao Tome sample 2 African frog: Ptychadena aff. uzungwensis, Tanzania, Njombe\n",
      "Similarity score: 0.862\n",
      "\n",
      "Sao Tome frog: Ptychadena newtoni, Sao Tome sample 3 African frog: Ptychadena oxyrhynchus, South Africa, Kwambonambi\n",
      "Similarity score: 0.8483685220729367\n",
      "\n",
      "Sao Tome frog: Ptychadena newtoni, Sao Tome sample 3 African frog: Ptychadena anchietae, South Africa, Mtunzini\n",
      "Similarity score: 0.8455598455598455\n",
      "\n",
      "Sao Tome frog: Ptychadena newtoni, Sao Tome sample 3 African frog: Ptychadena mascareniensis, Madagascar, Nahampoana\n",
      "Similarity score: 0.9176245210727969\n",
      "\n",
      "Sao Tome frog: Ptychadena newtoni, Sao Tome sample 3 African frog: Ptychadena mahnerti, Kenya, Mt Kenya\n",
      "Similarity score: 0.8480769230769231\n",
      "\n",
      "Sao Tome frog: Ptychadena newtoni, Sao Tome sample 3 African frog: Ptychadena aff. aequiplicata, Cameroon, Dja Reserve\n",
      "Similarity score: 0.8478260869565217\n",
      "\n",
      "Sao Tome frog: Ptychadena newtoni, Sao Tome sample 3 African frog: Ptychadena anchietae, Kenya, Kararacha Pond\n",
      "Similarity score: 0.8436781609195402\n",
      "\n",
      "Sao Tome frog: Ptychadena newtoni, Sao Tome sample 3 African frog: Ptychadena anchietae, Somalia, Karin, Bari Region\n",
      "Similarity score: 0.8415841584158416\n",
      "\n",
      "Sao Tome frog: Ptychadena newtoni, Sao Tome sample 3 African frog: Ptychadena anchietae, Somalia, Karin, Bari Region\n",
      "Similarity score: 0.8461538461538461\n",
      "\n",
      "Sao Tome frog: Ptychadena newtoni, Sao Tome sample 3 African frog: Ptychadena nilotica, Uganda, Lake Victoria\n",
      "Similarity score: 0.9483747609942639\n",
      "\n",
      "Sao Tome frog: Ptychadena newtoni, Sao Tome sample 3 African frog: Ptychadena nilotica, Kenya, Makuru\n",
      "Similarity score: 0.9445506692160612\n",
      "\n",
      "Sao Tome frog: Ptychadena newtoni, Sao Tome sample 3 African frog: Ptychadena nilotica, Kenya, Mt Kenya\n",
      "Similarity score: 0.9464627151051626\n",
      "\n",
      "Sao Tome frog: Ptychadena newtoni, Sao Tome sample 3 African frog: Ptychadena nilotica, Kenya, Mt Kenya\n",
      "Similarity score: 0.9464627151051626\n",
      "\n",
      "Sao Tome frog: Ptychadena newtoni, Sao Tome sample 3 African frog: Ptychadena nilotica, Kenya, Taita Hills\n",
      "Similarity score: 0.945010183299389\n",
      "\n",
      "Sao Tome frog: Ptychadena newtoni, Sao Tome sample 3 African frog: Ptychadena nilotica, Kenya, Taita Hills\n",
      "Similarity score: 0.9429175475687104\n",
      "\n",
      "Sao Tome frog: Ptychadena newtoni, Sao Tome sample 3 African frog: Ptychadena nilotica, Tanzania, Kibebe farm\n",
      "Similarity score: 0.950592885375494\n",
      "\n",
      "Sao Tome frog: Ptychadena newtoni, Sao Tome sample 3 African frog: Ptychadena aff. mascareniensis, Guinea\n",
      "Similarity score: 0.921455938697318\n",
      "\n",
      "Sao Tome frog: Ptychadena newtoni, Sao Tome sample 3 African frog: Ptychadena aff. mascareniensis, Uganda, Kampala\n",
      "Similarity score: 0.9329501915708812\n",
      "\n",
      "Sao Tome frog: Ptychadena newtoni, Sao Tome sample 3 African frog: Ptychadena aff. mascareniensis, Central African Republic, Dzanga-Sangha Reserve\n",
      "Similarity score: 0.9184652278177458\n",
      "\n",
      "Sao Tome frog: Ptychadena newtoni, Sao Tome sample 3 African frog: Ptychadena oxyrhynchus, Malawi\n",
      "Similarity score: 0.8541266794625719\n",
      "\n",
      "Sao Tome frog: Ptychadena newtoni, Sao Tome sample 3 African frog: Ptychadena aff. porosissima, Tanzania, Tatanda\n",
      "Similarity score: 0.8313725490196079\n",
      "\n",
      "Sao Tome frog: Ptychadena newtoni, Sao Tome sample 3 African frog: Ptychadena porosissima, Tanzania, Mumba\n",
      "Similarity score: 0.8568627450980392\n",
      "\n",
      "Sao Tome frog: Ptychadena newtoni, Sao Tome sample 3 African frog: Ptychadena pumilio, Guinea, Mont Bero\n",
      "Similarity score: 0.869757174392936\n",
      "\n",
      "Sao Tome frog: Ptychadena newtoni, Sao Tome sample 3 African frog: Ptychadena taenioscelis, Kenya, Kakamega\n",
      "Similarity score: 0.9022988505747126\n",
      "\n",
      "Sao Tome frog: Ptychadena newtoni, Sao Tome sample 3 African frog: Ptychadena sp., Tanzania, Mikumi\n",
      "Similarity score: 0.875\n",
      "\n",
      "Sao Tome frog: Ptychadena newtoni, Sao Tome sample 3 African frog: Ptychadena aff. uzungwensis, Tanzania, Njombe\n",
      "Similarity score: 0.862\n",
      "\n"
     ]
    }
   ],
   "source": [
    "computeScores()"
   ]
  },
  {
   "cell_type": "code",
   "execution_count": null,
   "metadata": {
    "collapsed": true
   },
   "outputs": [],
   "source": []
  }
 ],
 "metadata": {
  "kernelspec": {
   "display_name": "Python 3",
   "language": "python",
   "name": "python3"
  },
  "language_info": {
   "codemirror_mode": {
    "name": "ipython",
    "version": 3
   },
   "file_extension": ".py",
   "mimetype": "text/x-python",
   "name": "python",
   "nbconvert_exporter": "python",
   "pygments_lexer": "ipython3",
   "version": "3.6.0"
  }
 },
 "nbformat": 4,
 "nbformat_minor": 2
}
