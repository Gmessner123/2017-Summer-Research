{
 "cells": [
  {
   "cell_type": "code",
   "execution_count": 68,
   "metadata": {
    "collapsed": false
   },
   "outputs": [
    {
     "name": "stdout",
     "output_type": "stream",
     "text": [
      "p1 binding energy:\n",
      "-6.992057747845057\n"
     ]
    }
   ],
   "source": [
    "#Problem 2a/b\n",
    "f = \"desktop/bi1/RNAP_matrix.txt\"\n",
    "\n",
    "def findScores(seq):\n",
    "    fo = open(f, \"r\")\n",
    "    for l in range(0,7):\n",
    "        strin = fo.readline();\n",
    "    \n",
    "    matrix = [[0 for x in range(4)] for y in range(41)]\n",
    "    for i in range(0, 41):\n",
    "        stri = fo.readline();\n",
    "        strArr = ['','','','']\n",
    "        energies = [0, 0, 0, 0]\n",
    "        k = 0\n",
    "        for j in range(0, len(stri)):\n",
    "            if (stri[j] == \" \") or (j == len(stri) - 1):\n",
    "                strNum = float(strArr[k])\n",
    "                energies[k] = strNum\n",
    "                k += 1\n",
    "            else:\n",
    "                strArr[k] += stri[j]\n",
    "    \n",
    "        matrix[i][0] = energies[0]\n",
    "        matrix[i][1] = energies[1]\n",
    "        matrix[i][2] = energies[2]\n",
    "        matrix[i][3] = energies[3]\n",
    "    \n",
    "    totalScore = 0\n",
    "    for m in range(0, 41):\n",
    "        if(seq[m] == 'A'):\n",
    "            totalScore += matrix[m][0]\n",
    "        elif(seq[m] == 'C'):\n",
    "            totalScore += matrix[m][1]\n",
    "        elif(seq[m] == 'G'):\n",
    "            totalScore += matrix[m][2]\n",
    "        elif(seq[m] == 'T'):\n",
    "            totalScore += matrix[m][3]\n",
    "    return totalScore\n",
    "\n",
    "print('p1 binding energy:')\n",
    "print(findScores('TCGAGTTTACACTTTATGCTTCCGGCTCGTATAATGTGTGG'))"
   ]
  },
  {
   "cell_type": "code",
   "execution_count": 69,
   "metadata": {
    "collapsed": false
   },
   "outputs": [
    {
     "name": "stdout",
     "output_type": "stream",
     "text": [
      "p2 binding energy:\n",
      "-5.584672027506074\n"
     ]
    }
   ],
   "source": [
    "print('p2 binding energy:')\n",
    "print(findScores('TCGAGTTTACACTTTATGCTTCCGGCTCGGATAATGTGTGG'))"
   ]
  },
  {
   "cell_type": "code",
   "execution_count": 70,
   "metadata": {
    "collapsed": false
   },
   "outputs": [
    {
     "name": "stdout",
     "output_type": "stream",
     "text": [
      "Extra credit 1 binding energy:\n",
      "-3.9363706563196317\n"
     ]
    }
   ],
   "source": [
    "print('Extra credit 1 binding energy:')\n",
    "print(findScores('CAGGCTCTACGCTTTATTCTTGCGGCTCGTATGGTGTGTGG'))"
   ]
  },
  {
   "cell_type": "code",
   "execution_count": 71,
   "metadata": {
    "collapsed": false
   },
   "outputs": [
    {
     "name": "stdout",
     "output_type": "stream",
     "text": [
      "Extra credit 2 binding energy:\n",
      "-6.294688950104942\n"
     ]
    }
   ],
   "source": [
    "print('Extra credit 2 binding energy:')\n",
    "print(findScores('GAGGCTGGACACTTTAATCTTCCCTATCGTATGTTGTGTGC'))"
   ]
  },
  {
   "cell_type": "code",
   "execution_count": 131,
   "metadata": {
    "collapsed": false
   },
   "outputs": [
    {
     "name": "stdout",
     "output_type": "stream",
     "text": [
      "Extra credit 3 binding energy:\n",
      "-3.2291480237687833\n"
     ]
    }
   ],
   "source": [
    "print('Extra credit 3 binding energy:')\n",
    "print(findScores('CGAGCATGCCACCTTAAGCCTCTGGCTCGTATGACGTGTGG'))"
   ]
  },
  {
   "cell_type": "code",
   "execution_count": 132,
   "metadata": {
    "collapsed": true
   },
   "outputs": [],
   "source": [
    "#So the p1 binding energy is -6.992, the p2 binding energy is -5.585, the extra credit 1 binding energy is -3.936, \n",
    "#the extra credit 2 binding energy is -6.295, and the extra credit 3 binding energy is -3.229"
   ]
  },
  {
   "cell_type": "code",
   "execution_count": 133,
   "metadata": {
    "collapsed": true
   },
   "outputs": [],
   "source": [
    "#Problem 3c\n",
    "import numpy as np\n",
    "import matplotlib.pyplot as plt\n",
    "import seaborn as sns\n",
    "sns.set_context('notebook')\n",
    "%matplotlib inline\n",
    "\n",
    "e = 2.718281828459045\n",
    "P = 1000\n",
    "dE_p = -5\n",
    "dE_r = -15\n",
    "N_NS = 4600000\n",
    "\n",
    "def p_empty(R):\n",
    "    return 1.0/(((P / N_NS) * e ** (-dE_p)) + ((R / N_NS) * e ** (-dE_r)) + 1)\n",
    "\n",
    "def p_promoter(R):\n",
    "    return ((P / N_NS) * e ** (-dE_p))/(((P / N_NS) * e ** (-dE_p)) + ((R / N_NS) * e ** (-dE_r)) + 1)\n",
    "\n",
    "def p_repressor(R):\n",
    "    return ((R / N_NS) * e ** (-dE_r))/(((P / N_NS) * e ** (-dE_p)) + ((R / N_NS) * e ** (-dE_r)) + 1)\n"
   ]
  },
  {
   "cell_type": "code",
   "execution_count": 134,
   "metadata": {
    "collapsed": false
   },
   "outputs": [
    {
     "data": {
      "text/plain": [
       "<matplotlib.legend.Legend at 0x12b11be80>"
      ]
     },
     "execution_count": 134,
     "metadata": {},
     "output_type": "execute_result"
    },
    {
     "data": {
      "image/png": "[encoded data removed]",
      "text/plain": [
       "<matplotlib.figure.Figure at 0x12b52b470>"
      ]
     },
     "metadata": {},
     "output_type": "display_data"
    }
   ],
   "source": [
    "steps = np.arange(0, 1000, 1)\n",
    "empty_vals = np.zeros(1000)\n",
    "promoter_vals = np.zeros(1000)\n",
    "repressor_vals = np.zeros(1000)\n",
    "for i in range(1, 1000):\n",
    "    empty_vals[i] = p_empty(i)\n",
    "    promoter_vals[i] = p_promoter(i)\n",
    "    repressor_vals[i] = p_repressor(i)\n",
    "\n",
    "plt.xscale('log')\n",
    "plt.plot(steps, empty_vals, '-', label='Empty')\n",
    "plt.plot(steps, promoter_vals, '-', label='Promoter')\n",
    "plt.plot(steps, repressor_vals, '-', label='Repressor')\n",
    "plt.xlabel('Number of repressors (log scale)')\n",
    "plt.ylabel('P bound')\n",
    "plt.legend()"
   ]
  },
  {
   "cell_type": "code",
   "execution_count": 135,
   "metadata": {
    "collapsed": true
   },
   "outputs": [],
   "source": [
    "#Problem 3f\n",
    "\n",
    "def F(R, dEr):\n",
    "    return 1.0/(1 + (R / N_NS) * e ** (- dEr))"
   ]
  },
  {
   "cell_type": "code",
   "execution_count": 136,
   "metadata": {
    "collapsed": false
   },
   "outputs": [
    {
     "data": {
      "text/plain": [
       "<matplotlib.legend.Legend at 0x12b395a90>"
      ]
     },
     "execution_count": 136,
     "metadata": {},
     "output_type": "execute_result"
    },
    {
     "data": {
      "image/png": "[encoded data removed]",
      "text/plain": [
       "<matplotlib.figure.Figure at 0x12b15b518>"
      ]
     },
     "metadata": {},
     "output_type": "display_data"
    }
   ],
   "source": [
    "steps = np.arange(0, 1000, 1)\n",
    "weak = np.zeros(1000)\n",
    "medium = np.zeros(1000)\n",
    "strong = np.zeros(1000)\n",
    "for i in range(1, 1000):\n",
    "    weak[i] = F(i, -10)\n",
    "    medium[i] = F(i, -14)\n",
    "    strong[i] = F(i, -17)\n",
    "plt.xscale('log')\n",
    "plt.yscale('log')\n",
    "plt.plot(steps, weak, '-', label='Weak')\n",
    "plt.plot(steps, medium, '-', label='Medium')\n",
    "plt.plot(steps, strong, '-', label='Strong')\n",
    "plt.xlabel('Number of repressors (log scale)')\n",
    "plt.ylabel('Fold change (log scale)')\n",
    "plt.legend()"
   ]
  },
  {
   "cell_type": "code",
   "execution_count": null,
   "metadata": {
    "collapsed": true
   },
   "outputs": [],
   "source": []
  },
  {
   "cell_type": "code",
   "execution_count": null,
   "metadata": {
    "collapsed": true
   },
   "outputs": [],
   "source": []
  }
 ],
 "metadata": {
  "kernelspec": {
   "display_name": "Python 3",
   "language": "python",
   "name": "python3"
  },
  "language_info": {
   "codemirror_mode": {
    "name": "ipython",
    "version": 3
   },
   "file_extension": ".py",
   "mimetype": "text/x-python",
   "name": "python",
   "nbconvert_exporter": "python",
   "pygments_lexer": "ipython3",
   "version": "3.6.0"
  }
 },
 "nbformat": 4,
 "nbformat_minor": 2
}
