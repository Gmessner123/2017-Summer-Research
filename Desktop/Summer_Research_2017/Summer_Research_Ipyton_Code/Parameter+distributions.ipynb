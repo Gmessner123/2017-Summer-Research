{
 "cells": [
  {
   "cell_type": "code",
   "execution_count": 74,
   "metadata": {
    "collapsed": true
   },
   "outputs": [],
   "source": [
    "import numpy as np\n",
    "import matplotlib.pyplot as plt\n",
    "%matplotlib inline"
   ]
  },
  {
   "cell_type": "code",
   "execution_count": 201,
   "metadata": {
    "collapsed": false
   },
   "outputs": [],
   "source": [
    "file = 'desktop/logfile.txt'\n",
    "f = open(file, 'r')\n",
    "b = []\n",
    "v = []\n",
    "m = []\n",
    "m0 = []\n",
    "m1 = [] \n",
    "r = []\n",
    "r0 = []\n",
    "r1 = []\n",
    "a = []\n",
    "e = []\n",
    "global line \n",
    "line = 0\n",
    "\n",
    "def readline2():\n",
    "    global line\n",
    "    line += 1\n",
    "    return f.readline()\n",
    "\n",
    "readline2()\n",
    "i = 0\n",
    "while(i < 4000):\n",
    "    classification = readline2()\n",
    "    t = float(classification[10:])\n",
    "    if(t < .0187):\n",
    "        l = readline2()\n",
    "        while(l[0:1] != '*'):\n",
    "            l = readline2()\n",
    "        continue\n",
    "        \n",
    "    if classification[5:7] == 'BB':\n",
    "        l = readline2()\n",
    "        while(l[0:1] != '*'):\n",
    "            l = readline2()\n",
    "        i += 1\n",
    "        continue\n",
    "        \n",
    "    s = readline2()\n",
    "    s2 = readline2()\n",
    "    s3 = readline2()\n",
    "    for j in range(len(s) - 1):\n",
    "        sub = s[j : j + 1]\n",
    "        if sub == 'b' and s[j+1 : j+2] != 'i':\n",
    "            b.append(s[j+2 : j+8])\n",
    "        if sub == 'v':\n",
    "            v.append(s[j+2 : j+8])\n",
    "            break\n",
    "    \n",
    "    for j in range(len(s2) - 1):\n",
    "        sub = s2[j : j + 1]\n",
    "        if sub == 'm' and s2[j+1 : j+2] != 's':\n",
    "            m.append(s2[j+2 : j+9])\n",
    "        if sub == 'R':\n",
    "            r.append(s2[j+2 : j+9])\n",
    "            break\n",
    "            \n",
    "    for j in range(len(s3) - 2):\n",
    "        sub2 = s3[j:j+2]\n",
    "        if sub2 == 'm0':\n",
    "            m0.append(s3[j+3:j+9])\n",
    "        if sub2 == 'm1':\n",
    "            m1.append(s3[j+3:j+9])\n",
    "        if sub2 == 'R0':\n",
    "            r0.append(s3[j+3:j+10])\n",
    "        if sub2 == 'R1':\n",
    "            r1.append(s3[j+3:j+10])\n",
    "            break\n",
    "    \n",
    "    for j in range(len(s3) - 1):\n",
    "        sub = s3[j : j + 1]\n",
    "        if sub == 'a' and s3[j+1 : j+2] == '=':\n",
    "            a.append(s3[j+2 : j+8])\n",
    "        if sub == 'e' and s3[j+2 : j+3] != 'b' and s3[j+1 : j+2] == '=':\n",
    "            e.append(s3[j+2 : j+8])\n",
    "            break\n",
    "    \n",
    "    l = readline2()\n",
    "    while(l[0:1] != '*'):\n",
    "        l = readline2()\n",
    "    i += 1\n",
    "\n",
    "f.close()\n",
    "\n",
    "def stringToFloat(li):\n",
    "    floats = []\n",
    "    for i in range(len(li)):\n",
    "        trim = ''\n",
    "        string = li[i]\n",
    "        j = 0\n",
    "        while j < len(string) - 1 and string[j : j + 1] != '\\\\' and string[j : j + 1] != 'R'and string[j : j + 1] != 'E':\n",
    "            trim += string[j : j + 1]\n",
    "            j+=1\n",
    "        floats.append(float(trim))\n",
    "    return floats\n",
    "    \n",
    "v = stringToFloat(v)\n",
    "b = stringToFloat(b)\n",
    "m = stringToFloat(m)\n",
    "r = stringToFloat(r)\n",
    "r0 = stringToFloat(r0)\n",
    "r1 = stringToFloat(r1)\n",
    "m0 = stringToFloat(m0)\n",
    "m1 = stringToFloat(m1)\n",
    "a = stringToFloat(a)\n",
    "e = stringToFloat(e)"
   ]
  },
  {
   "cell_type": "code",
   "execution_count": 222,
   "metadata": {
    "collapsed": false
   },
   "outputs": [],
   "source": [
    "b2 = []\n",
    "v2 = []\n",
    "m2 = []\n",
    "m02 = []\n",
    "m12 = [] \n",
    "r2 = []\n",
    "r02 = []\n",
    "r12 = []\n",
    "a2 = []\n",
    "e2 = []\n",
    "for i in range(len(b)):\n",
    "    if m[i] > 3.00 and m0[i] > 3.00 and m1[i] > 3.00:\n",
    "        b2.append(b[i])\n",
    "        v2.append(v[i])\n",
    "        m2.append(m[i])\n",
    "        m02.append(m0[i])\n",
    "        m12.append(m1[i])\n",
    "        r2.append(r[i])\n",
    "        r02.append(r0[i])\n",
    "        r12.append(r1[i])\n",
    "        a2.append(a[i])\n",
    "        e2.append(e[i])\n",
    "\n",
    "b3 = []\n",
    "v3 = []\n",
    "m3 = []\n",
    "m03 = []\n",
    "m13 = [] \n",
    "r3 = []\n",
    "r03 = []\n",
    "r13 = []\n",
    "a3 = []\n",
    "e3 = []\n",
    "for i in range(len(b2)):\n",
    "    b3.append(b2[i]) #a\n",
    "    v3.append(v2[i])# * 6.1714e+13 / (1.68433e+17)) #km/s\n",
    "    m3.append(m2[i])# M_sun * .618313) #M_sun\n",
    "    m03.append(m02[i])# M_sun* .618313) # M_sun\n",
    "    m13.append(m12[i])# M_sun* .618313) #M_sun\n",
    "    r3.append(r2[i])# R_sun * 6.1714e+13) #km \n",
    "    r03.append(r02[i]) # R_sun * 6.1714e+13) #km\n",
    "    r13.append(r12[i]) # R_sun * 6.1714e+13) #km\n",
    "    a3.append(a2[i]) # AU * 6.1714e+13) #km\n",
    "    e3.append(e2[i]) # dimensionless"
   ]
  },
  {
   "cell_type": "code",
   "execution_count": 263,
   "metadata": {
    "collapsed": false
   },
   "outputs": [
    {
     "data": {
      "text/plain": [
       "<matplotlib.text.Text at 0x12abbed30>"
      ]
     },
     "execution_count": 263,
     "metadata": {},
     "output_type": "execute_result"
    },
    {
     "data": {
      "image/png": "[encoded data removed]",
      "text/plain": [
       "<matplotlib.figure.Figure at 0x12a661518>"
      ]
     },
     "metadata": {},
     "output_type": "display_data"
    }
   ],
   "source": [
    "plt.hist(v3, range=(0, 10), bins = 20, normed=True)\n",
    "plt.xlabel('$v_{inf}$ / $v_{c}$')\n",
    "plt.ylabel('Frequency')"
   ]
  },
  {
   "cell_type": "code",
   "execution_count": 264,
   "metadata": {
    "collapsed": false
   },
   "outputs": [
    {
     "data": {
      "text/plain": [
       "<matplotlib.text.Text at 0x12ae264e0>"
      ]
     },
     "execution_count": 264,
     "metadata": {},
     "output_type": "execute_result"
    },
    {
     "data": {
      "image/png": "[encoded data removed]",
      "text/plain": [
       "<matplotlib.figure.Figure at 0x12a8de588>"
      ]
     },
     "metadata": {},
     "output_type": "display_data"
    }
   ],
   "source": [
    "plt.hist(b3, range=(0, 10), bins = 20, normed=True)\n",
    "plt.xlabel('b / a')\n",
    "plt.ylabel('Frequency')"
   ]
  },
  {
   "cell_type": "code",
   "execution_count": 268,
   "metadata": {
    "collapsed": false
   },
   "outputs": [
    {
     "data": {
      "text/plain": [
       "<matplotlib.text.Text at 0x12b5c7898>"
      ]
     },
     "execution_count": 268,
     "metadata": {},
     "output_type": "execute_result"
    },
    {
     "data": {
      "image/png": "[encoded data removed]",
      "text/plain": [
       "<matplotlib.figure.Figure at 0x12b25cb00>"
      ]
     },
     "metadata": {},
     "output_type": "display_data"
    }
   ],
   "source": [
    "plt.hist(r3, range=(0, .001), bins = 20, normed=True)\n",
    "plt.xlabel('$r_{1}$ / $r_{sun}$')\n",
    "plt.ylabel('Frequency')"
   ]
  },
  {
   "cell_type": "code",
   "execution_count": 271,
   "metadata": {
    "collapsed": false
   },
   "outputs": [
    {
     "data": {
      "text/plain": [
       "<matplotlib.text.Text at 0x12b9766a0>"
      ]
     },
     "execution_count": 271,
     "metadata": {},
     "output_type": "execute_result"
    },
    {
     "data": {
      "image/png": "[encoded data removed]",
      "text/plain": [
       "<matplotlib.figure.Figure at 0x12b7d5710>"
      ]
     },
     "metadata": {},
     "output_type": "display_data"
    }
   ],
   "source": [
    "plt.hist(m3, range=(3, 60), bins = 20, normed = True)\n",
    "plt.xlabel('$m_{1}$ / $m_{sun}$')\n",
    "plt.ylabel('Frequency')"
   ]
  },
  {
   "cell_type": "code",
   "execution_count": 272,
   "metadata": {
    "collapsed": false
   },
   "outputs": [
    {
     "data": {
      "text/plain": [
       "<matplotlib.text.Text at 0x12bb8dd68>"
      ]
     },
     "execution_count": 272,
     "metadata": {},
     "output_type": "execute_result"
    },
    {
     "data": {
      "image/png": "[encoded data removed]",
      "text/plain": [
       "<matplotlib.figure.Figure at 0x12b47e9b0>"
      ]
     },
     "metadata": {},
     "output_type": "display_data"
    }
   ],
   "source": [
    "plt.hist(r03, range=(0, .001), bins = 20, normed = True)\n",
    "plt.xlabel('$r_{01}$ / $r_{sun}$')\n",
    "plt.ylabel('Frequency')"
   ]
  },
  {
   "cell_type": "code",
   "execution_count": 273,
   "metadata": {
    "collapsed": false
   },
   "outputs": [
    {
     "data": {
      "text/plain": [
       "<matplotlib.text.Text at 0x12bcc7b38>"
      ]
     },
     "execution_count": 273,
     "metadata": {},
     "output_type": "execute_result"
    },
    {
     "data": {
      "image/png": "[encoded data removed]",
      "text/plain": [
       "<matplotlib.figure.Figure at 0x12bb8fc88>"
      ]
     },
     "metadata": {},
     "output_type": "display_data"
    }
   ],
   "source": [
    "plt.hist(r13, range=(0, .001), bins = 20, normed = True)\n",
    "plt.xlabel('$r_{11}$ / $r_{sun}$')\n",
    "plt.ylabel('Frequency')"
   ]
  },
  {
   "cell_type": "code",
   "execution_count": 275,
   "metadata": {
    "collapsed": false
   },
   "outputs": [
    {
     "data": {
      "text/plain": [
       "<matplotlib.text.Text at 0x12c223eb8>"
      ]
     },
     "execution_count": 275,
     "metadata": {},
     "output_type": "execute_result"
    },
    {
     "data": {
      "image/png": "[encoded data removed]",
      "text/plain": [
       "<matplotlib.figure.Figure at 0x12c0aaf60>"
      ]
     },
     "metadata": {},
     "output_type": "display_data"
    }
   ],
   "source": [
    "plt.hist(m03, range=(0, 60), bins = 20, normed = True)\n",
    "plt.xlabel('$m_{01}$ / $m_{sun}$')\n",
    "plt.ylabel('Frequency')"
   ]
  },
  {
   "cell_type": "code",
   "execution_count": 278,
   "metadata": {
    "collapsed": false
   },
   "outputs": [
    {
     "data": {
      "text/plain": [
       "<matplotlib.text.Text at 0x12c7dfeb8>"
      ]
     },
     "execution_count": 278,
     "metadata": {},
     "output_type": "execute_result"
    },
    {
     "data": {
      "image/png": "[encoded data removed]",
      "text/plain": [
       "<matplotlib.figure.Figure at 0x12c2bb780>"
      ]
     },
     "metadata": {},
     "output_type": "display_data"
    }
   ],
   "source": [
    "plt.hist(m13, range=(0, 60), bins = 20, normed = True)\n",
    "plt.xlabel('$m_{11}$ / $m_{sun}$')\n",
    "plt.ylabel('Frequency')"
   ]
  },
  {
   "cell_type": "code",
   "execution_count": 280,
   "metadata": {
    "collapsed": false
   },
   "outputs": [
    {
     "data": {
      "text/plain": [
       "<matplotlib.text.Text at 0x12cbb8828>"
      ]
     },
     "execution_count": 280,
     "metadata": {},
     "output_type": "execute_result"
    },
    {
     "data": {
      "image/png": "[encoded data removed]",
      "text/plain": [
       "<matplotlib.figure.Figure at 0x12c8efda0>"
      ]
     },
     "metadata": {},
     "output_type": "display_data"
    }
   ],
   "source": [
    "plt.hist(e2, range=(0, 1), bins = 20, normed = True)\n",
    "plt.xlabel('e')\n",
    "plt.ylabel('Frequency')"
   ]
  },
  {
   "cell_type": "code",
   "execution_count": 286,
   "metadata": {
    "collapsed": false
   },
   "outputs": [
    {
     "data": {
      "text/plain": [
       "<matplotlib.text.Text at 0x12d524828>"
      ]
     },
     "execution_count": 286,
     "metadata": {},
     "output_type": "execute_result"
    },
    {
     "data": {
      "image/png": "[encoded data removed]",
      "text/plain": [
       "<matplotlib.figure.Figure at 0x12d1415f8>"
      ]
     },
     "metadata": {},
     "output_type": "display_data"
    }
   ],
   "source": [
    "plt.hist(a3, range=(0, 1000), bins = 20, normed = True)\n",
    "plt.xlabel('a (AU)')\n",
    "plt.ylabel('Frequency')"
   ]
  },
  {
   "cell_type": "code",
   "execution_count": null,
   "metadata": {
    "collapsed": true
   },
   "outputs": [],
   "source": []
  },
  {
   "cell_type": "code",
   "execution_count": null,
   "metadata": {
    "collapsed": true
   },
   "outputs": [],
   "source": []
  }
 ],
 "metadata": {
  "kernelspec": {
   "display_name": "Python 3",
   "language": "python",
   "name": "python3"
  },
  "language_info": {
   "codemirror_mode": {
    "name": "ipython",
    "version": 3
   },
   "file_extension": ".py",
   "mimetype": "text/x-python",
   "name": "python",
   "nbconvert_exporter": "python",
   "pygments_lexer": "ipython3",
   "version": "3.6.0"
  }
 },
 "nbformat": 4,
 "nbformat_minor": 2
}
