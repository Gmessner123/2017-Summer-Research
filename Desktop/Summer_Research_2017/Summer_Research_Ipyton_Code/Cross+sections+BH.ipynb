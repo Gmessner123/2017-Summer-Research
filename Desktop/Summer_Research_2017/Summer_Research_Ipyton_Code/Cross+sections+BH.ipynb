{
 "cells": [
  {
   "cell_type": "code",
   "execution_count": 1,
   "metadata": {
    "collapsed": true
   },
   "outputs": [],
   "source": [
    "import numpy as np\n",
    "import matplotlib.pyplot as plt\n",
    "%matplotlib inline\n",
    "import subprocess\n",
    "import random\n",
    "import time"
   ]
  },
  {
   "cell_type": "code",
   "execution_count": 2,
   "metadata": {
    "collapsed": true
   },
   "outputs": [],
   "source": [
    "def getLenNum(s):\n",
    "    for i in range(len(s) - 1):\n",
    "        if(s[i:i+1] == ' ' or s[i:i+1] == '\\\\'):\n",
    "            return i\n",
    "    return(len(s) - 1)"
   ]
  },
  {
   "cell_type": "code",
   "execution_count": 3,
   "metadata": {
    "collapsed": false
   },
   "outputs": [
    {
     "ename": "NameError",
     "evalue": "name 'A' is not defined",
     "output_type": "error",
     "traceback": [
      "\u001b[0;31m---------------------------------------------------------------------------\u001b[0m",
      "\u001b[0;31mNameError\u001b[0m                                 Traceback (most recent call last)",
      "\u001b[0;32m<ipython-input-3-c251b9006ee5>\u001b[0m in \u001b[0;36m<module>\u001b[0;34m()\u001b[0m\n\u001b[1;32m      1\u001b[0m \u001b[0mstart\u001b[0m \u001b[0;34m=\u001b[0m \u001b[0mtime\u001b[0m\u001b[0;34m.\u001b[0m\u001b[0mtime\u001b[0m\u001b[0;34m(\u001b[0m\u001b[0;34m)\u001b[0m\u001b[0;34m\u001b[0m\u001b[0m\n\u001b[0;32m----> 2\u001b[0;31m s = subprocess.run('desktop/fewbody_PN/sigma_binsingle -v .5 -m 55 -n 55 -o 55 -r .0002 -g .0002 -i .0002 -e .99 -a %f -A 1e-6 -R 1e-6' % A((3.0 * 10 ** 8) * 5e-3, 55, 55, 55, .5),\n\u001b[0m\u001b[1;32m      3\u001b[0m                stdout=subprocess.PIPE, stderr=subprocess.STDOUT, shell=True)\n\u001b[1;32m      4\u001b[0m \u001b[0mend\u001b[0m \u001b[0;34m=\u001b[0m \u001b[0mtime\u001b[0m\u001b[0;34m.\u001b[0m\u001b[0mtime\u001b[0m\u001b[0;34m(\u001b[0m\u001b[0;34m)\u001b[0m\u001b[0;34m\u001b[0m\u001b[0m\n\u001b[1;32m      5\u001b[0m \u001b[0;34m\u001b[0m\u001b[0m\n",
      "\u001b[0;31mNameError\u001b[0m: name 'A' is not defined"
     ]
    }
   ],
   "source": [
    "start = time.time()\n",
    "s = subprocess.run('desktop/fewbody_PN/sigma_binsingle -v .5 -m 55 -n 55 -o 55 -r .0002 -g .0002 -i .0002 -e .99 -a %f -A 1e-6 -R 1e-6' % A((3.0 * 10 ** 8) * 5e-3, 55, 55, 55, .5),\n",
    "               stdout=subprocess.PIPE, stderr=subprocess.STDOUT, shell=True)\n",
    "end = time.time()\n",
    "\n",
    "print(end - start)"
   ]
  },
  {
   "cell_type": "code",
   "execution_count": 9,
   "metadata": {
    "collapsed": false
   },
   "outputs": [
    {
     "ename": "NameError",
     "evalue": "name 's' is not defined",
     "output_type": "error",
     "traceback": [
      "\u001b[0;31m---------------------------------------------------------------------------\u001b[0m",
      "\u001b[0;31mNameError\u001b[0m                                 Traceback (most recent call last)",
      "\u001b[0;32m<ipython-input-9-d3c410459651>\u001b[0m in \u001b[0;36m<module>\u001b[0;34m()\u001b[0m\n\u001b[0;32m----> 1\u001b[0;31m \u001b[0mprint\u001b[0m\u001b[0;34m(\u001b[0m\u001b[0ms\u001b[0m\u001b[0;34m)\u001b[0m\u001b[0;34m\u001b[0m\u001b[0m\n\u001b[0m",
      "\u001b[0;31mNameError\u001b[0m: name 's' is not defined"
     ]
    }
   ],
   "source": [
    "print(s)"
   ]
  },
  {
   "cell_type": "code",
   "execution_count": null,
   "metadata": {
    "collapsed": true
   },
   "outputs": [],
   "source": []
  },
  {
   "cell_type": "code",
   "execution_count": 10,
   "metadata": {
    "collapsed": false
   },
   "outputs": [],
   "source": [
    "def A(v, m01, m02, m1, vRatio): #vRatio = v / v_c\n",
    "    G = 6.674 * (10 ** -11) # m^3 kg^-1 s^-2\n",
    "    m01 = m01 * (1.99 * 10 ** 30)\n",
    "    m02 = m02 * (1.99 * 10 ** 30)\n",
    "    m0 = m01 + m02\n",
    "    m1 = m1 * (1.99 * 10 ** 30)\n",
    "    mu =  m0 * m1 / (m0 + m1)\n",
    "    return (((G / mu) * (m01 * m02)) / (((v / (vRatio)) ** 2))) * (6.685 * 10 ** -12)"
   ]
  },
  {
   "cell_type": "code",
   "execution_count": 20,
   "metadata": {
    "collapsed": false
   },
   "outputs": [
    {
     "data": {
      "text/plain": [
       "0.008138645450833334"
      ]
     },
     "execution_count": 20,
     "metadata": {},
     "output_type": "execute_result"
    }
   ],
   "source": [
    "A((5e-3)*3.0e8, 55, 55, 55, .5)"
   ]
  },
  {
   "cell_type": "code",
   "execution_count": 13,
   "metadata": {
    "collapsed": false
   },
   "outputs": [],
   "source": [
    "def extractOutput(rawString):\n",
    "    retList = [] # resonance, exchange\n",
    "    for j in range(1, len(rawString) - 1):\n",
    "        if(rawString[j:j+5] == 'tion)'):\n",
    "            if(rawString[j + 7 :j +  8] != ' '): \n",
    "                stop = getLenNum(rawString[j + 7 :])\n",
    "                retList.append(rawString[j + 7 : j + 7 + stop])\n",
    "            elif(rawString[j + 8 :j +  9] != ' '):\n",
    "                stop = getLenNum(rawString[j + 8 :])\n",
    "                retList.append(rawString[j + 8 : j + 8 + stop])\n",
    "            else:\n",
    "                retList.append(0)\n",
    "        if(rawString[j:j+5] == 'ge_1)'):\n",
    "            stop = getLenNum(rawString[j + 7 :])\n",
    "            retList.append(rawString[j + 7 : j + 7 + stop])\n",
    "            stop2 = getLenNum(rawString[j + 7 + stop + 2 :])\n",
    "            stop3 = getLenNum(rawString[j + 7 + stop + 2 + stop2 + 2:])\n",
    "            stop4 = getLenNum(rawString[j + 7 + stop + 2 + stop2 + 2 + stop3 + 2:])\n",
    "            retList.append(rawString[j + 7 + stop + 2 + stop2 + 2 + stop3 + 2: j + 7 + stop + 2 + stop2 + 2 + stop3 + 2 + stop4])\n",
    "        if(rawString[j:j+5] == 'ge_2)'):\n",
    "            stop = getLenNum(rawString[j + 7 :])\n",
    "            retList.append(rawString[j + 7 : j + 7 + stop])\n",
    "            stop2 = getLenNum(rawString[j + 7 + stop + 2 :])\n",
    "            stop3 = getLenNum(rawString[j + 7 + stop + 2 + stop2 + 2:])\n",
    "            stop4 = getLenNum(rawString[j + 7 + stop + 2 + stop2 + 2 + stop3 + 2:])\n",
    "            retList.append(rawString[j + 7 + stop + 2 + stop2 + 2 + stop3 + 2: j + 7 + stop + 2 + stop2 + 2 + stop3 + 2 + stop4])\n",
    "            break\n",
    "      \n",
    "    for i in range(len(retList)):\n",
    "        if(retList[i] != ''):\n",
    "            retList[i] = float(retList[i])\n",
    "        else:\n",
    "            retList[i] = 0\n",
    "    retList2 = []\n",
    "    retList2.append(retList[0] + retList[1] + retList[3])\n",
    "    retList2.append(retList[2] + retList[4] + (2/3) * (retList[1] + retList[3]))\n",
    "    return retList2 "
   ]
  },
  {
   "cell_type": "code",
   "execution_count": 14,
   "metadata": {
    "collapsed": false
   },
   "outputs": [
    {
     "ename": "NameError",
     "evalue": "name 's' is not defined",
     "output_type": "error",
     "traceback": [
      "\u001b[0;31m---------------------------------------------------------------------------\u001b[0m",
      "\u001b[0;31mNameError\u001b[0m                                 Traceback (most recent call last)",
      "\u001b[0;32m<ipython-input-14-8a77ebd3e6be>\u001b[0m in \u001b[0;36m<module>\u001b[0;34m()\u001b[0m\n\u001b[0;32m----> 1\u001b[0;31m \u001b[0mextractOutput\u001b[0m\u001b[0;34m(\u001b[0m\u001b[0mstr\u001b[0m\u001b[0;34m(\u001b[0m\u001b[0ms\u001b[0m\u001b[0;34m)\u001b[0m\u001b[0;34m)\u001b[0m\u001b[0;34m\u001b[0m\u001b[0m\n\u001b[0m",
      "\u001b[0;31mNameError\u001b[0m: name 's' is not defined"
     ]
    }
   ],
   "source": [
    "extractOutput(str(s))"
   ]
  },
  {
   "cell_type": "code",
   "execution_count": 16,
   "metadata": {
    "collapsed": false
   },
   "outputs": [
    {
     "ename": "KeyboardInterrupt",
     "evalue": "",
     "output_type": "error",
     "traceback": [
      "\u001b[0;31m---------------------------------------------------------------------------\u001b[0m",
      "\u001b[0;31mKeyboardInterrupt\u001b[0m                         Traceback (most recent call last)",
      "\u001b[0;32m<ipython-input-16-0dd9ae3b62eb>\u001b[0m in \u001b[0;36m<module>\u001b[0;34m()\u001b[0m\n\u001b[1;32m     19\u001b[0m \u001b[0;34m\u001b[0m\u001b[0m\n\u001b[1;32m     20\u001b[0m     PN25raw = subprocess.run('desktop/fewbody_PN/sigma_binsingle -v .5 -m 55 -n 55 -o 55 -r .0002 -g .0002 -i .0002 -e .99 -P 0 -Q 0 -a %f' % a,\n\u001b[0;32m---> 21\u001b[0;31m                stdout=subprocess.PIPE, stderr=subprocess.STDOUT, shell=True)\n\u001b[0m\u001b[1;32m     22\u001b[0m \u001b[0;34m\u001b[0m\u001b[0m\n\u001b[1;32m     23\u001b[0m     \u001b[0moutput\u001b[0m \u001b[0;34m=\u001b[0m \u001b[0mextractOutput\u001b[0m\u001b[0;34m(\u001b[0m\u001b[0mstr\u001b[0m\u001b[0;34m(\u001b[0m\u001b[0mraw\u001b[0m\u001b[0;34m)\u001b[0m\u001b[0;34m)\u001b[0m\u001b[0;34m\u001b[0m\u001b[0m\n",
      "\u001b[0;32m/Users/Grant/anaconda/lib/python3.6/subprocess.py\u001b[0m in \u001b[0;36mrun\u001b[0;34m(input, timeout, check, *popenargs, **kwargs)\u001b[0m\n\u001b[1;32m    403\u001b[0m     \u001b[0;32mwith\u001b[0m \u001b[0mPopen\u001b[0m\u001b[0;34m(\u001b[0m\u001b[0;34m*\u001b[0m\u001b[0mpopenargs\u001b[0m\u001b[0;34m,\u001b[0m \u001b[0;34m**\u001b[0m\u001b[0mkwargs\u001b[0m\u001b[0;34m)\u001b[0m \u001b[0;32mas\u001b[0m \u001b[0mprocess\u001b[0m\u001b[0;34m:\u001b[0m\u001b[0;34m\u001b[0m\u001b[0m\n\u001b[1;32m    404\u001b[0m         \u001b[0;32mtry\u001b[0m\u001b[0;34m:\u001b[0m\u001b[0;34m\u001b[0m\u001b[0m\n\u001b[0;32m--> 405\u001b[0;31m             \u001b[0mstdout\u001b[0m\u001b[0;34m,\u001b[0m \u001b[0mstderr\u001b[0m \u001b[0;34m=\u001b[0m \u001b[0mprocess\u001b[0m\u001b[0;34m.\u001b[0m\u001b[0mcommunicate\u001b[0m\u001b[0;34m(\u001b[0m\u001b[0minput\u001b[0m\u001b[0;34m,\u001b[0m \u001b[0mtimeout\u001b[0m\u001b[0;34m=\u001b[0m\u001b[0mtimeout\u001b[0m\u001b[0;34m)\u001b[0m\u001b[0;34m\u001b[0m\u001b[0m\n\u001b[0m\u001b[1;32m    406\u001b[0m         \u001b[0;32mexcept\u001b[0m \u001b[0mTimeoutExpired\u001b[0m\u001b[0;34m:\u001b[0m\u001b[0;34m\u001b[0m\u001b[0m\n\u001b[1;32m    407\u001b[0m             \u001b[0mprocess\u001b[0m\u001b[0;34m.\u001b[0m\u001b[0mkill\u001b[0m\u001b[0;34m(\u001b[0m\u001b[0;34m)\u001b[0m\u001b[0;34m\u001b[0m\u001b[0m\n",
      "\u001b[0;32m/Users/Grant/anaconda/lib/python3.6/subprocess.py\u001b[0m in \u001b[0;36mcommunicate\u001b[0;34m(self, input, timeout)\u001b[0m\n\u001b[1;32m    821\u001b[0m                 \u001b[0mself\u001b[0m\u001b[0;34m.\u001b[0m\u001b[0m_stdin_write\u001b[0m\u001b[0;34m(\u001b[0m\u001b[0minput\u001b[0m\u001b[0;34m)\u001b[0m\u001b[0;34m\u001b[0m\u001b[0m\n\u001b[1;32m    822\u001b[0m             \u001b[0;32melif\u001b[0m \u001b[0mself\u001b[0m\u001b[0;34m.\u001b[0m\u001b[0mstdout\u001b[0m\u001b[0;34m:\u001b[0m\u001b[0;34m\u001b[0m\u001b[0m\n\u001b[0;32m--> 823\u001b[0;31m                 \u001b[0mstdout\u001b[0m \u001b[0;34m=\u001b[0m \u001b[0mself\u001b[0m\u001b[0;34m.\u001b[0m\u001b[0mstdout\u001b[0m\u001b[0;34m.\u001b[0m\u001b[0mread\u001b[0m\u001b[0;34m(\u001b[0m\u001b[0;34m)\u001b[0m\u001b[0;34m\u001b[0m\u001b[0m\n\u001b[0m\u001b[1;32m    824\u001b[0m                 \u001b[0mself\u001b[0m\u001b[0;34m.\u001b[0m\u001b[0mstdout\u001b[0m\u001b[0;34m.\u001b[0m\u001b[0mclose\u001b[0m\u001b[0;34m(\u001b[0m\u001b[0;34m)\u001b[0m\u001b[0;34m\u001b[0m\u001b[0m\n\u001b[1;32m    825\u001b[0m             \u001b[0;32melif\u001b[0m \u001b[0mself\u001b[0m\u001b[0;34m.\u001b[0m\u001b[0mstderr\u001b[0m\u001b[0;34m:\u001b[0m\u001b[0;34m\u001b[0m\u001b[0m\n",
      "\u001b[0;31mKeyboardInterrupt\u001b[0m: "
     ]
    }
   ],
   "source": [
    "V = [1e-5, 5e-5, 1e-4,5e-4, 1e-3, 5e-3, 1e-2, 5e-2, 1e-1, 5e-1] # in c=1 units\n",
    "res = []\n",
    "ex = []\n",
    "\n",
    "res_PN = []\n",
    "ex_PN = []\n",
    "\n",
    "res_PN25 = []\n",
    "ex_PN25 = []\n",
    "\n",
    "for v in V:\n",
    "    v = (3.0 * 10 ** 8) * v\n",
    "    a = A(v, 55, 55, 55, .5)\n",
    "    raw = subprocess.run('desktop/fewbody-0.26/sigma_binsingle -v .5 -m 55 -n 55 -o 55 -r .0002 -g .0002 -i .0002 -e .99 -a %f' % a,\n",
    "               stdout=subprocess.PIPE, stderr=subprocess.STDOUT, shell=True)\n",
    "    \n",
    "    PNraw = subprocess.run('desktop/fewbody_PN/sigma_binsingle -v .5 -m 55 -n 55 -o 55 -r .0002 -g .0002 -i .0002 -e .99 -a %f' % a,\n",
    "               stdout=subprocess.PIPE, stderr=subprocess.STDOUT, shell=True)\n",
    "    \n",
    "    PN25raw = subprocess.run('desktop/fewbody_PN/sigma_binsingle -v .5 -m 55 -n 55 -o 55 -r .0002 -g .0002 -i .0002 -e .99 -P 0 -Q 0 -a %f' % a,\n",
    "               stdout=subprocess.PIPE, stderr=subprocess.STDOUT, shell=True)\n",
    "    \n",
    "    output = extractOutput(str(raw))\n",
    "    PNoutput = extractOutput(str(PNraw))\n",
    "    PN25output = extractOutput(str(PN25raw))\n",
    "    \n",
    "    res.append(output[0])\n",
    "    ex.append(output[1])\n",
    "    res_PN.append(PNoutput[0])\n",
    "    ex_PN.append(PNoutput[1])\n",
    "    res_PN25.append(PN25output[0])\n",
    "    ex_PN25.append(PN25output[1])\n",
    "    print(v)"
   ]
  },
  {
   "cell_type": "code",
   "execution_count": 31,
   "metadata": {
    "collapsed": false
   },
   "outputs": [
    {
     "data": {
      "text/plain": [
       "<matplotlib.legend.Legend at 0x119c126a0>"
      ]
     },
     "execution_count": 31,
     "metadata": {},
     "output_type": "execute_result"
    },
    {
     "data": {
      "image/png": "[encoded data removed]",
      "text/plain": [
       "<matplotlib.figure.Figure at 0x119bf5e10>"
      ]
     },
     "metadata": {},
     "output_type": "display_data"
    }
   ],
   "source": [
    "plt.figure(figsize=(15,15))\n",
    "plt.plot(V, res, 'o', color='blue', label='Newtonian resonance')\n",
    "plt.plot(V, res_PN, 'o', color='red', label='Postnewtonian resonance')\n",
    "plt.plot(V, res_PN25, 'o', color='green', label='PN2.5 only resonance')\n",
    "plt.plot(V, ex, 'o', color='blue', marker = 'v', label='Newtonian exchange')\n",
    "plt.plot(V, ex_PN, 'o', color='red', marker = 'v', label='Postnewtonian exchange')\n",
    "plt.plot(V, ex_PN25, 'o', color='green', marker = 'v', label='PN2.5 only exchange')\n",
    "plt.xscale('log')\n",
    "plt.yscale('log')\n",
    "plt.xlabel('v / c')\n",
    "plt.ylabel('Cross section')\n",
    "plt.legend()"
   ]
  },
  {
   "cell_type": "code",
   "execution_count": 21,
   "metadata": {
    "collapsed": false
   },
   "outputs": [
    {
     "data": {
      "text/plain": [
       "8.138645450833333e-07"
      ]
     },
     "execution_count": 21,
     "metadata": {},
     "output_type": "execute_result"
    }
   ],
   "source": [
    " A((3.0 * 10 ** 8) * 5e-1, 55, 55, 55, .5)"
   ]
  },
  {
   "cell_type": "code",
   "execution_count": null,
   "metadata": {
    "collapsed": true
   },
   "outputs": [],
   "source": []
  }
 ],
 "metadata": {
  "kernelspec": {
   "display_name": "Python 3",
   "language": "python",
   "name": "python3"
  },
  "language_info": {
   "codemirror_mode": {
    "name": "ipython",
    "version": 3
   },
   "file_extension": ".py",
   "mimetype": "text/x-python",
   "name": "python",
   "nbconvert_exporter": "python",
   "pygments_lexer": "ipython3",
   "version": "3.6.0"
  }
 },
 "nbformat": 4,
 "nbformat_minor": 2
}
